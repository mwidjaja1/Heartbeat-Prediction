{
 "cells": [
  {
   "cell_type": "markdown",
   "metadata": {},
   "source": [
    "# Deep Learning Model on Heartbeats\n",
    "\n",
    "## The Data\n",
    "TBD"
   ]
  },
  {
   "cell_type": "markdown",
   "metadata": {},
   "source": [
    "## Code Architecture\n",
    "There are three primary scripts,\n",
    "1. `data_loader.py`: This parses the heartbeat audio data, extract features from it, and saves it to a Pickled DataFrame. This is manually ran once and because of that nature, is not included in this Notebook.\n",
    "2. `loader.py`: This script reads the features from `data_loader.py` and runs it through a Convolutional Neural Network.\n",
    "3. `plot.py`: This contains all of the functions used to create plots."
   ]
  },
  {
   "cell_type": "code",
   "execution_count": null,
   "metadata": {
    "collapsed": true
   },
   "outputs": [],
   "source": []
  }
 ],
 "metadata": {
  "kernelspec": {
   "display_name": "Python 3",
   "language": "python",
   "name": "python3"
  },
  "language_info": {
   "codemirror_mode": {
    "name": "ipython",
    "version": 3
   },
   "file_extension": ".py",
   "mimetype": "text/x-python",
   "name": "python",
   "nbconvert_exporter": "python",
   "pygments_lexer": "ipython3",
   "version": "3.6.3"
  }
 },
 "nbformat": 4,
 "nbformat_minor": 2
}
